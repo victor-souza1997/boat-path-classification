{
 "cells": [
  {
   "cell_type": "code",
   "execution_count": null,
   "metadata": {},
   "outputs": [],
   "source": [
    "'''loading all the necessary libs'''\n",
    "import numpy as np\n",
    "import pandas as pd\n",
    "import matplotlib.pyplot as plt\n",
    "from scipy.stats import norm\n",
    "from time import sleep\n",
    "import os\n",
    "\n",
    "\n"
   ]
  },
  {
   "cell_type": "code",
   "execution_count": null,
   "metadata": {},
   "outputs": [],
   "source": [
    "\"\"\"Reading the files\"\"\" \n",
    "filepath = '../content/embarcacoes/'\n",
    "df = pd.read_csv(filepath+'embacacoes.csv')  \n"
   ]
  },
  {
   "cell_type": "code",
   "execution_count": null,
   "metadata": {},
   "outputs": [],
   "source": [
    "\"\"\"Select the boat trajectory and preparer the **M** matrix\"\"\"\n",
    "N = 20 # selected trajectory\n",
    "M = df.values # all the information matrix\n",
    "pos = np.argwhere(M[:,12] == N) # vector of the position of points where the traject is the N\n",
    "s = np.array([M[0:,7]]).T # speed vector"
   ]
  },
  {
   "cell_type": "code",
   "execution_count": null,
   "metadata": {},
   "outputs": [],
   "source": [
    "\"\"\"Initiation the Gaussians to Find All the Probability Distributions\"\"\"\n",
    "k = 2 #número de gaussianas\n",
    "[N, Dim] = s.shape\n",
    "\n",
    "aux = np.random.choice(N, N, replace=False)\n",
    "w = s[aux[0:k],:]\n",
    "\n",
    "for j in range(0,5):\n",
    "    rot = np.array([])\n",
    "    for n in range(0, N):\n",
    "        rot = np.append(rot, np.argmin(sum(pow(np.ones((k,1))*s[n, :]-w, 2).T))  )\n",
    "    for m in range(0, k):\n",
    "        w[m,:] = np.mean(s[np.where(rot == m), :], axis=1)\n",
    "\n",
    "del aux, j, n, m \n",
    "\n",
    "c = np.zeros((k,Dim,Dim))\n",
    "for i in range(0, k):\n",
    "    aux = s[np.where(rot == i)[0],:] - w[i, :]\n",
    "    c[i,:,:] = np.dot(aux.T, aux)/N\n",
    "del aux, i"
   ]
  },
  {
   "cell_type": "markdown",
   "metadata": {},
   "source": [
    "## Clustering K-means Step"
   ]
  },
  {
   "cell_type": "code",
   "execution_count": null,
   "metadata": {},
   "outputs": [],
   "source": [
    "#%matplotlib notebook\n",
    "\"\"\"k-means clustering\"\"\"\n",
    "#fig = plt.figure()\n",
    "#ax = fig.add_subplot(111)\n",
    "#plt.ion()\n",
    "likehood = []\n",
    "#fig.show()\n",
    "#fig.canvas.draw()\n",
    "\n",
    "for l in range(0,1):\n",
    "    P = np.zeros((N,k))\n",
    "    for j in range(0,N):\n",
    "        for i in range(0,k):\n",
    "            temp1 = 1/(pow(2*np.pi,Dim/2)*np.linalg.det(c[i,:, :]))\n",
    "            temp2 = np.dot(s[j,:]-w[i,:], np.dot(np.linalg.inv(c[i,:,:]),(s[j,:]-w[i,:])))\n",
    "            pi = 1/4*np.ones((k,1));\n",
    "            P[j,i] = pi[i,0]*temp1*np.exp(-1/2*temp2)\n",
    "    del temp1, temp2, i, j\n",
    "    L = P\n",
    "    den = np.sum(L, axis = 1)\n",
    "    for j in range(0, k):\n",
    "        for n in range(0, N):\n",
    "            L[n,j] = P[n,j]/den[n]\n",
    "    del n, j   \n",
    "    Nk = np.sum(L, axis = 0)\n",
    "    uknovo = np.zeros((w.shape))\n",
    "    uknovo[0,:] = 1/Nk[0]*np.sum(L[:,0]*s.T,axis = 1)\n",
    "    uknovo[1,:] = 1/Nk[1]*np.sum(L[:,1]*s.T,axis = 1)\n",
    "\n",
    "    #ajustar covariância\n",
    "    cknovo = np.zeros((k,Dim,Dim))\n",
    "    for i in range(0, k):#len(u)):\n",
    "        aux = s - uknovo[i, :]\n",
    "        cknovo[i,:,:] = np.dot(L[:,i]*aux.T, aux)/Nk[i]\n",
    "\n",
    "    del aux\n",
    "    w = uknovo\n",
    "    c = cknovo\n",
    "    likehood = np.append(likehood,sum(np.log(np.sum(L, axis=1))))\n",
    "    rot = np.zeros((N))\n",
    "    for n in range(0, N):\n",
    "        rot[n] = int(np.argmax(L[n,:])+1)\n",
    "\n",
    "   \n",
    "    #ax.clear()\n",
    "    #ax.plot(s[np.where(rot == 1)[0], 0], '*b')\n",
    "    #ax.plot(s[np.where(rot == 2)[0], 0], '*r')\n",
    "       \n",
    "    #fig.canvas.draw()\n",
    "\n",
    "\n",
    "plt.plot(s[np.where(rot == 1)[0], 0],'*b', label=\"fish\")\n",
    "plt.plot(s[np.where(rot == 2)[0], 0],'*r', label=\"cruizing\")\n",
    "plt.legend()\n",
    "\n"
   ]
  },
  {
   "cell_type": "code",
   "execution_count": null,
   "metadata": {},
   "outputs": [],
   "source": [
    "plt.plot(s[np.where(rot == 1)[0], 0],'*b', label=\"fish\")\n",
    "#plt.ylabel(\"Probability Distribution of Being Fishing\")\n",
    "plt.plot(s[np.where(rot == 2)[0], 0],'*r', label=\"cruizing\")\n",
    "#plt.ylabel(\"Probability Distribution of Being Cruzing\")\n",
    "plt.legend()\n"
   ]
  },
  {
   "cell_type": "code",
   "execution_count": null,
   "metadata": {},
   "outputs": [],
   "source": [
    "pos_f = np.argwhere(rot == 1)\n",
    "pos_c = np.argwhere(rot == 2)\n",
    "Uc_t , Nc_t= np.unique(rot[pos_c[:-1,0]+1], return_counts = True)\n",
    "Uf_t , Nf_t= np.unique(rot[pos_f[:-2,0]+1], return_counts = True)   \n",
    "#%matplotlib widget\n",
    "plt.plot(Uc_t, Nc_t/(np.sum(Nf_t)+np.sum(Nc_t)), '*r')\n",
    "plt.plot(Uf_t, Nf_t/(np.sum(Nf_t)+np.sum(Nc_t)), '*b')\n",
    "Nc_t/(+np.sum(Nc_t)),Nf_t/(np.sum(Nf_t))\n",
    "\n",
    "a = np.array([Nf_t/(np.sum(Nf_t)),Nc_t/(+np.sum(Nc_t))])"
   ]
  },
  {
   "cell_type": "code",
   "execution_count": null,
   "metadata": {
    "scrolled": false
   },
   "outputs": [],
   "source": [
    "#%matplotlib widget \n",
    "\"\"\"probability distribuition just with k-means\"\"\"\n",
    "t = np.linspace(0,21,211)\n",
    "g1 = 1/(c[0]*np.sqrt(2*np.pi))*np.exp(-1/2*pow((t-w[0])/c[0], 2))\n",
    "g2 = 1/(c[1]*np.sqrt(2*np.pi))*np.exp(-1/2*pow((t-w[1])/c[1], 2))\n",
    "plt.plot(t,g1.T/np.sum(g1), 'r', label='fishing')\n",
    "plt.plot(t,g2.T/np.sum(g2), 'b', label='cruizing')\n",
    "plt.legend()"
   ]
  },
  {
   "cell_type": "code",
   "execution_count": null,
   "metadata": {},
   "outputs": [],
   "source": [
    "b = np.array([g1[0,:].T/np.sum(g1), g2[0,:].T/np.sum(g2)])\n",
    "b.shape\n",
    "b = pd.DataFrame(b.T,columns=[\"cruzeiro\",\"pesca\" ])\n",
    "b.to_csv (r'../content/distribution/b.csv', index = False, header=True, encoding='utf-8')\n",
    "a = pd.DataFrame(a)\n",
    "a.to_csv (r'../content/distribution/a.csv', index = False, header=True, encoding='utf-8')\n"
   ]
  },
  {
   "cell_type": "markdown",
   "metadata": {},
   "source": [
    "## Markov Step"
   ]
  },
  {
   "cell_type": "code",
   "execution_count": null,
   "metadata": {},
   "outputs": [],
   "source": [
    "filepath = '../content/distribution/'\n",
    "a = pd.read_csv(filepath+'a.csv')#probabilidade de mudar de estado\n",
    "b = pd.read_csv(filepath+'b.csv')#probabilidade dos eventos de velocidade\n",
    "a = a.values\n",
    "b = b.values\n",
    "pi = np.array([0,1])#variavel da probabilidade "
   ]
  },
  {
   "cell_type": "code",
   "execution_count": null,
   "metadata": {
    "scrolled": false
   },
   "outputs": [],
   "source": [
    "#%matplotlib notebook\n",
    "#%load_ext autoreload\n",
    "#%autoreload 2\n",
    "from Markov import HMM\n",
    "#importlib.reload(HMM)\n",
    "\n",
    "fig = plt.figure()\n",
    "ax1 = fig.add_subplot(211)\n",
    "ax1.title.set_text('Proability Distribution')\n",
    "ax2 = fig.add_subplot(212)\n",
    "ax2.title.set_text('Error')\n",
    "#plt.ion()\n",
    "fig.show()\n",
    "#fig.canvas.draw()\n",
    "\n",
    "erro = np.array([]) \n",
    "for z in range(0,10):\n",
    "    alpha, eta = HMM.forward(s, a, b, pi)\n",
    "    beta = HMM.backward(s, b, a, eta)\n",
    "    gamma = HMM.get_gamma(s, alpha, beta)    \n",
    "    zeta = HMM.get_zeta(s, alpha, beta, eta, a, b)\n",
    "    temp1 = np.sum(zeta, axis = 2)\n",
    "    temp2 = np.sum(zeta, axis = 1)\n",
    "    a_new = np.zeros((2,2))\n",
    "    for i in range(0,2):\n",
    "        for j in range(0,2):\n",
    "            a_new[i, j] = temp1[i, j]/np.sum(temp1, axis = 1)[i]\n",
    "    erro = np.append(erro, np.sum(np.abs(a-a_new)))\n",
    "    a = np.copy(a_new)\n",
    "    \"\"\"find the probability distribution\"\"\"\n",
    "    # mean of each distribution\n",
    "    u1 = np.sum(gamma[0,:]*s[:,0])/np.sum(gamma[0,:])\n",
    "    u2 = np.sum(gamma[1,:]*s[:,0])/np.sum(gamma[1,:])\n",
    "    # covariance matrix of each distribution\n",
    "    c1 = np.sum(gamma[0,:]*abs(s[:,0]-u1))/np.sum(gamma[0,:])\n",
    "    c2 = np.sum(gamma[1,:]*abs(s[:,0]-u2))/np.sum(gamma[1,:]) \n",
    "    x = np.arange(0,21.1,0.1) #timeset\n",
    "    \n",
    "    g1 = 1/(c1*np.sqrt(2*np.pi))*np.exp(-1/2*pow((x-u1)/c1, 2))\n",
    "    g2 = 1/(c2*np.sqrt(2*np.pi))*np.exp(-1/2*pow((x-u2)/c2, 2))\n",
    "    \n",
    "    b = np.array([g1/np.sum(g1),g2/np.sum(g2)]).T\n",
    "    pi = gamma[:,0]  \n",
    "   \n",
    "    \n",
    "  \n",
    "    \n",
    "    #ax1.clear()\n",
    "   # ax2.clear()\n",
    "  #  ax1.plot(x,b[:,0], 'r', label='cruizing')\n",
    " #   ax1.plot(x,b[:,1], 'b', label='fishing')\n",
    "#    ax2.plot(erro)\n",
    "#    fig.canvas.draw()\n",
    "ax1.plot(x,b[:,0], 'r', label='cruizing')\n",
    "ax1.plot(x,b[:,1], 'b', label='fishing')\n",
    "ax2.plot(erro)\n",
    "#   "
   ]
  },
  {
   "cell_type": "code",
   "execution_count": null,
   "metadata": {},
   "outputs": [],
   "source": [
    "rot = np.zeros(len(gamma.T))\n",
    "for i in range(0,len(gamma.T)):\n",
    "    if(gamma[0,i] > gamma[1,i]) :\n",
    "        rot[i] = 1;\n",
    "    else: \n",
    "        rot[i] = 0\n",
    "rot = np.array([rot])"
   ]
  },
  {
   "cell_type": "code",
   "execution_count": null,
   "metadata": {},
   "outputs": [],
   "source": [
    "v = np.array([M[:,9], M[:,10], rot[0,:]])\n",
    "pd.DataFrame(v[:,pos[:,0]])\n",
    "pos = np.argwhere(M[:, -1] == 19)\n",
    "v = v[:,pos[:,0]]\n",
    "\n",
    "#%matplotlib notebook\n",
    "plt.plot(v[0,np.where(v[2,:] == 1)].T, v[1,np.where(v[2,:] == 1)].T, '*b')\n",
    "plt.plot(v[0,np.where(v[2,:] == 0)].T, v[1,np.where(v[2,:] == 0)].T, '*r')\n",
    "plt.savefig(\"filepath.svg\", format = 'svg', dpi=1000)\n"
   ]
  },
  {
   "cell_type": "code",
   "execution_count": null,
   "metadata": {},
   "outputs": [],
   "source": [
    "\n",
    "#%matplotlib notebook\n",
    "s = M[0:,7] #vetor de velocidade do trajeto N\n",
    "s = np.array([s]).T\n",
    "s = s[pos[:,0]]\n",
    "plt.plot(s[np.where(v[2,:] == 1)], '*r')\n",
    "plt.plot(s[np.where(v[2,:] == 0)], '*b')"
   ]
  },
  {
   "cell_type": "code",
   "execution_count": null,
   "metadata": {},
   "outputs": [],
   "source": []
  },
  {
   "cell_type": "code",
   "execution_count": null,
   "metadata": {},
   "outputs": [],
   "source": []
  }
 ],
 "metadata": {
  "kernelspec": {
   "display_name": "Python 3.8.10 64-bit",
   "language": "python",
   "name": "python3"
  },
  "language_info": {
   "codemirror_mode": {
    "name": "ipython",
    "version": 3
   },
   "file_extension": ".py",
   "mimetype": "text/x-python",
   "name": "python",
   "nbconvert_exporter": "python",
   "pygments_lexer": "ipython3",
   "version": "3.8.10"
  },
  "vscode": {
   "interpreter": {
    "hash": "916dbcbb3f70747c44a77c7bcd40155683ae19c65e1c03b4aa3499c5328201f1"
   }
  }
 },
 "nbformat": 4,
 "nbformat_minor": 4
}
